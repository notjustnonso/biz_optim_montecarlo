{
  "cells": [
    {
      "cell_type": "markdown",
      "metadata": {
        "id": "OwB4rWBko3ev"
      },
      "source": [
        "# Marsh & McLennan Eastern Airlines Analysis - More perspectives\n"
      ]
    },
    {
      "cell_type": "code",
      "execution_count": 1,
      "metadata": {
        "id": "MLcjP71h2aAp"
      },
      "outputs": [],
      "source": [
        "import numpy as np\n",
        "import pandas as pd\n",
        "import matplotlib.pyplot as plt\n",
        "import seaborn as sns"
      ]
    },
    {
      "cell_type": "markdown",
      "metadata": {
        "id": "mlMGV3VBo-0P"
      },
      "source": [
        "## Data "
      ]
    },
    {
      "cell_type": "markdown",
      "metadata": {
        "id": "Lich0MDRAwdQ"
      },
      "source": [
        "Eastern fleet data"
      ]
    },
    {
      "cell_type": "code",
      "execution_count": 2,
      "metadata": {
        "id": "Hw8XULI-2bXo"
      },
      "outputs": [],
      "source": [
        "## Eastern Fleet\n",
        "jets = 206\n",
        "eq_hrs = 10060\n",
        "insured = 941600000\n",
        "\n",
        "# Jet type proportions in full fleet\n",
        "fleet = {'DC861': 17/206, 'DC863': 2/206, 'DC914':15/206, 'DC921': 14/206, 'DC93':62/206, 'DC931':5/206, '720':15/206, '727':50/206, '225':1/206, 'QC':25/206}"
      ]
    },
    {
      "cell_type": "code",
      "execution_count": 3,
      "metadata": {
        "colab": {
          "base_uri": "https://localhost:8080/"
        },
        "id": "5kTrSLR36Ilb",
        "outputId": "9cbf55f6-a16b-46ef-f622-bbb7439a7578"
      },
      "outputs": [
        {
          "data": {
            "text/plain": [
              "{'225': 0.0048543689320388345,\n",
              " '720': 0.07281553398058252,\n",
              " '727': 0.24271844660194175,\n",
              " 'DC861': 0.0825242718446602,\n",
              " 'DC863': 0.009708737864077669,\n",
              " 'DC914': 0.07281553398058252,\n",
              " 'DC921': 0.06796116504854369,\n",
              " 'DC93': 0.30097087378640774,\n",
              " 'DC931': 0.024271844660194174,\n",
              " 'QC': 0.12135922330097088}"
            ]
          },
          "execution_count": 3,
          "metadata": {},
          "output_type": "execute_result"
        }
      ],
      "source": [
        "fleet"
      ]
    },
    {
      "cell_type": "markdown",
      "metadata": {
        "id": "wlZH3R9lAz-I"
      },
      "source": [
        "Crash Probability"
      ]
    },
    {
      "cell_type": "code",
      "execution_count": 4,
      "metadata": {
        "colab": {
          "base_uri": "https://localhost:8080/"
        },
        "id": "h02PwUI8_dXF",
        "outputId": "8119253e-6191-4c49-aec0-2f0c29c6c22c"
      },
      "outputs": [
        {
          "data": {
            "text/plain": [
              "0.006424010217113665"
            ]
          },
          "execution_count": 4,
          "metadata": {},
          "output_type": "execute_result"
        }
      ],
      "source": [
        "## Probability of crash historic\n",
        "hrs = 15660000\n",
        "crashes = 10\n",
        "ratio = crashes / hrs\n",
        "\n",
        "# Eastern\n",
        "crash_prob = (eq_hrs * jets * ratio) / jets\n",
        "crash_prob"
      ]
    },
    {
      "cell_type": "markdown",
      "metadata": {
        "id": "WyAmlQXOBWOk"
      },
      "source": [
        "**Probability for Modeling**"
      ]
    },
    {
      "cell_type": "code",
      "execution_count": 5,
      "metadata": {
        "id": "Z18axNrzBWbP"
      },
      "outputs": [],
      "source": [
        "p = crash_prob"
      ]
    },
    {
      "cell_type": "markdown",
      "metadata": {
        "id": "jVwifMzcBQHq"
      },
      "source": [
        "Jet proportions and $ value"
      ]
    },
    {
      "cell_type": "code",
      "execution_count": 6,
      "metadata": {
        "colab": {
          "base_uri": "https://localhost:8080/",
          "height": 363
        },
        "id": "4VtulNIL-7R0",
        "outputId": "7b997949-1b11-4a25-bd86-54127e66069a"
      },
      "outputs": [
        {
          "data": {
            "text/html": [
              "\n",
              "  <div id=\"df-e87f3340-b407-4ce0-b3da-7719dc5b711c\">\n",
              "    <div class=\"colab-df-container\">\n",
              "      <div>\n",
              "<style scoped>\n",
              "    .dataframe tbody tr th:only-of-type {\n",
              "        vertical-align: middle;\n",
              "    }\n",
              "\n",
              "    .dataframe tbody tr th {\n",
              "        vertical-align: top;\n",
              "    }\n",
              "\n",
              "    .dataframe thead th {\n",
              "        text-align: right;\n",
              "    }\n",
              "</style>\n",
              "<table border=\"1\" class=\"dataframe\">\n",
              "  <thead>\n",
              "    <tr style=\"text-align: right;\">\n",
              "      <th></th>\n",
              "      <th>prop</th>\n",
              "      <th>book_val</th>\n",
              "      <th>jet_val</th>\n",
              "      <th>ins_val</th>\n",
              "    </tr>\n",
              "  </thead>\n",
              "  <tbody>\n",
              "    <tr>\n",
              "      <th>DC861</th>\n",
              "      <td>0.082524</td>\n",
              "      <td>1.480530e+08</td>\n",
              "      <td>8709000.0</td>\n",
              "      <td>9000000</td>\n",
              "    </tr>\n",
              "    <tr>\n",
              "      <th>DC863</th>\n",
              "      <td>0.009709</td>\n",
              "      <td>2.220000e+07</td>\n",
              "      <td>11100000.0</td>\n",
              "      <td>11300000</td>\n",
              "    </tr>\n",
              "    <tr>\n",
              "      <th>DC914</th>\n",
              "      <td>0.072816</td>\n",
              "      <td>4.965000e+07</td>\n",
              "      <td>3310000.0</td>\n",
              "      <td>3400000</td>\n",
              "    </tr>\n",
              "    <tr>\n",
              "      <th>DC921</th>\n",
              "      <td>0.067961</td>\n",
              "      <td>3.838080e+08</td>\n",
              "      <td>2772000.0</td>\n",
              "      <td>3000000</td>\n",
              "    </tr>\n",
              "    <tr>\n",
              "      <th>DC93</th>\n",
              "      <td>0.300971</td>\n",
              "      <td>2.371150e+09</td>\n",
              "      <td>3825000.0</td>\n",
              "      <td>3900000</td>\n",
              "    </tr>\n",
              "    <tr>\n",
              "      <th>DC931</th>\n",
              "      <td>0.024272</td>\n",
              "      <td>1.912500e+07</td>\n",
              "      <td>3825000.0</td>\n",
              "      <td>3900000</td>\n",
              "    </tr>\n",
              "    <tr>\n",
              "      <th>720</th>\n",
              "      <td>0.072816</td>\n",
              "      <td>3.682500e+07</td>\n",
              "      <td>2455000.0</td>\n",
              "      <td>3200000</td>\n",
              "    </tr>\n",
              "    <tr>\n",
              "      <th>727</th>\n",
              "      <td>0.242718</td>\n",
              "      <td>1.927000e+08</td>\n",
              "      <td>3854000.0</td>\n",
              "      <td>4200000</td>\n",
              "    </tr>\n",
              "    <tr>\n",
              "      <th>225</th>\n",
              "      <td>0.004854</td>\n",
              "      <td>6.092225e+06</td>\n",
              "      <td>6092225.0</td>\n",
              "      <td>6200000</td>\n",
              "    </tr>\n",
              "    <tr>\n",
              "      <th>QC</th>\n",
              "      <td>0.121359</td>\n",
              "      <td>1.427500e+08</td>\n",
              "      <td>5710000.0</td>\n",
              "      <td>5900000</td>\n",
              "    </tr>\n",
              "  </tbody>\n",
              "</table>\n",
              "</div>\n",
              "      <button class=\"colab-df-convert\" onclick=\"convertToInteractive('df-e87f3340-b407-4ce0-b3da-7719dc5b711c')\"\n",
              "              title=\"Convert this dataframe to an interactive table.\"\n",
              "              style=\"display:none;\">\n",
              "        \n",
              "  <svg xmlns=\"http://www.w3.org/2000/svg\" height=\"24px\"viewBox=\"0 0 24 24\"\n",
              "       width=\"24px\">\n",
              "    <path d=\"M0 0h24v24H0V0z\" fill=\"none\"/>\n",
              "    <path d=\"M18.56 5.44l.94 2.06.94-2.06 2.06-.94-2.06-.94-.94-2.06-.94 2.06-2.06.94zm-11 1L8.5 8.5l.94-2.06 2.06-.94-2.06-.94L8.5 2.5l-.94 2.06-2.06.94zm10 10l.94 2.06.94-2.06 2.06-.94-2.06-.94-.94-2.06-.94 2.06-2.06.94z\"/><path d=\"M17.41 7.96l-1.37-1.37c-.4-.4-.92-.59-1.43-.59-.52 0-1.04.2-1.43.59L10.3 9.45l-7.72 7.72c-.78.78-.78 2.05 0 2.83L4 21.41c.39.39.9.59 1.41.59.51 0 1.02-.2 1.41-.59l7.78-7.78 2.81-2.81c.8-.78.8-2.07 0-2.86zM5.41 20L4 18.59l7.72-7.72 1.47 1.35L5.41 20z\"/>\n",
              "  </svg>\n",
              "      </button>\n",
              "      \n",
              "  <style>\n",
              "    .colab-df-container {\n",
              "      display:flex;\n",
              "      flex-wrap:wrap;\n",
              "      gap: 12px;\n",
              "    }\n",
              "\n",
              "    .colab-df-convert {\n",
              "      background-color: #E8F0FE;\n",
              "      border: none;\n",
              "      border-radius: 50%;\n",
              "      cursor: pointer;\n",
              "      display: none;\n",
              "      fill: #1967D2;\n",
              "      height: 32px;\n",
              "      padding: 0 0 0 0;\n",
              "      width: 32px;\n",
              "    }\n",
              "\n",
              "    .colab-df-convert:hover {\n",
              "      background-color: #E2EBFA;\n",
              "      box-shadow: 0px 1px 2px rgba(60, 64, 67, 0.3), 0px 1px 3px 1px rgba(60, 64, 67, 0.15);\n",
              "      fill: #174EA6;\n",
              "    }\n",
              "\n",
              "    [theme=dark] .colab-df-convert {\n",
              "      background-color: #3B4455;\n",
              "      fill: #D2E3FC;\n",
              "    }\n",
              "\n",
              "    [theme=dark] .colab-df-convert:hover {\n",
              "      background-color: #434B5C;\n",
              "      box-shadow: 0px 1px 3px 1px rgba(0, 0, 0, 0.15);\n",
              "      filter: drop-shadow(0px 1px 2px rgba(0, 0, 0, 0.3));\n",
              "      fill: #FFFFFF;\n",
              "    }\n",
              "  </style>\n",
              "\n",
              "      <script>\n",
              "        const buttonEl =\n",
              "          document.querySelector('#df-e87f3340-b407-4ce0-b3da-7719dc5b711c button.colab-df-convert');\n",
              "        buttonEl.style.display =\n",
              "          google.colab.kernel.accessAllowed ? 'block' : 'none';\n",
              "\n",
              "        async function convertToInteractive(key) {\n",
              "          const element = document.querySelector('#df-e87f3340-b407-4ce0-b3da-7719dc5b711c');\n",
              "          const dataTable =\n",
              "            await google.colab.kernel.invokeFunction('convertToInteractive',\n",
              "                                                     [key], {});\n",
              "          if (!dataTable) return;\n",
              "\n",
              "          const docLinkHtml = 'Like what you see? Visit the ' +\n",
              "            '<a target=\"_blank\" href=https://colab.research.google.com/notebooks/data_table.ipynb>data table notebook</a>'\n",
              "            + ' to learn more about interactive tables.';\n",
              "          element.innerHTML = '';\n",
              "          dataTable['output_type'] = 'display_data';\n",
              "          await google.colab.output.renderOutput(dataTable, element);\n",
              "          const docLink = document.createElement('div');\n",
              "          docLink.innerHTML = docLinkHtml;\n",
              "          element.appendChild(docLink);\n",
              "        }\n",
              "      </script>\n",
              "    </div>\n",
              "  </div>\n",
              "  "
            ],
            "text/plain": [
              "           prop      book_val     jet_val   ins_val\n",
              "DC861  0.082524  1.480530e+08   8709000.0   9000000\n",
              "DC863  0.009709  2.220000e+07  11100000.0  11300000\n",
              "DC914  0.072816  4.965000e+07   3310000.0   3400000\n",
              "DC921  0.067961  3.838080e+08   2772000.0   3000000\n",
              "DC93   0.300971  2.371150e+09   3825000.0   3900000\n",
              "DC931  0.024272  1.912500e+07   3825000.0   3900000\n",
              "720    0.072816  3.682500e+07   2455000.0   3200000\n",
              "727    0.242718  1.927000e+08   3854000.0   4200000\n",
              "225    0.004854  6.092225e+06   6092225.0   6200000\n",
              "QC     0.121359  1.427500e+08   5710000.0   5900000"
            ]
          },
          "execution_count": 6,
          "metadata": {},
          "output_type": "execute_result"
        }
      ],
      "source": [
        "## Dataframe with jet value and jet type\n",
        "jetdf = pd.DataFrame.from_dict(fleet, orient='index', columns = ['prop'])\n",
        "jetdf['book_val'] = [148053, 22200, 49650, 383808, 2371150, 19125, 36825,192700,6092.225, 97070+45680] *np.full((10,), 1000)\n",
        "jetdf['jet_val'] = [8709, 11100, 3310, 2772, 3825, 3825, 2455, 3854, 6092.225, 5710] *np.full((10,), 1000)\n",
        "jetdf['ins_val'] = [9000, 11300, 3400, 3000, 3900, 3900, 3200, 4200, 6200, 5900] *np.full((10,), 1000)\n",
        "jetdf"
      ]
    },
    {
      "cell_type": "code",
      "execution_count": 10,
      "metadata": {
        "colab": {
          "base_uri": "https://localhost:8080/"
        },
        "id": "n9OyVlCq_4IX",
        "outputId": "ffbc0ecb-1af6-4ca5-f657-8643633b5638"
      },
      "outputs": [
        {
          "data": {
            "text/plain": [
              "Index(['DC861', 'DC863', 'DC914', 'DC921', 'DC93', 'DC931', '720', '727',\n",
              "       '225', 'QC'],\n",
              "      dtype='object')"
            ]
          },
          "execution_count": 10,
          "metadata": {},
          "output_type": "execute_result"
        }
      ],
      "source": [
        "jetdf.index"
      ]
    },
    {
      "cell_type": "code",
      "execution_count": 7,
      "metadata": {
        "colab": {
          "base_uri": "https://localhost:8080/"
        },
        "id": "tIeyFsv6AUcm",
        "outputId": "3a3d8905-7c88-4e52-88a7-93eca61b8023"
      },
      "outputs": [
        {
          "data": {
            "text/plain": [
              "DC861    0.082524\n",
              "DC863    0.009709\n",
              "DC914    0.072816\n",
              "DC921    0.067961\n",
              "DC93     0.300971\n",
              "DC931    0.024272\n",
              "720      0.072816\n",
              "727      0.242718\n",
              "225      0.004854\n",
              "QC       0.121359\n",
              "Name: prop, dtype: float64"
            ]
          },
          "execution_count": 7,
          "metadata": {},
          "output_type": "execute_result"
        }
      ],
      "source": [
        "## Array of proportion of each jet type in the full fleet\n",
        "props = jetdf['prop']\n",
        "props"
      ]
    },
    {
      "cell_type": "code",
      "execution_count": 8,
      "metadata": {
        "colab": {
          "base_uri": "https://localhost:8080/"
        },
        "id": "Ng0zEfe0GFWT",
        "outputId": "e82cb873-550c-4395-a554-fe31d1eabd03"
      },
      "outputs": [
        {
          "data": {
            "text/plain": [
              "1.0"
            ]
          },
          "execution_count": 8,
          "metadata": {},
          "output_type": "execute_result"
        }
      ],
      "source": [
        "sum(props)"
      ]
    },
    {
      "cell_type": "markdown",
      "metadata": {
        "id": "f6aMbo5SIkFV"
      },
      "source": [
        "## Annual Losses Simulation"
      ]
    },
    {
      "cell_type": "code",
      "execution_count": 9,
      "metadata": {
        "id": "UDk8cA_qIvNL"
      },
      "outputs": [],
      "source": [
        "## Function to simulate loss in $ per year\n",
        "\n",
        "def loss_per_yr(loss_prob, num_jets, jet_props, yrs):\n",
        "  \"\"\"\n",
        "  Compute the loss in $ per year for the number of years entered\n",
        "\n",
        "  Inputs: probabilty of loss, number of jets, the proportion \n",
        "  each jet type in the full fleet, and number of years to run plan\n",
        "\n",
        "  Output: loss $ including damage $ per year\n",
        "  \"\"\"\n",
        "\n",
        "  losses = np.array([])\n",
        "\n",
        "  for i in range(yrs):\n",
        "    ## generate a binomial distribution for number of lost jets\n",
        "    l = np.random.binomial(num_jets, loss_prob) \n",
        "\n",
        "    #### Type of fleet lost\n",
        "    ## what type of jet was lost? (multinomial)\n",
        "    m = np.random.multinomial(l, jet_props)\n",
        "\n",
        "    #### Lost $\n",
        "    # total lost value in $\n",
        "    loss_val = np.dot(m, jetdf.jet_val)\n",
        "\n",
        "    # hull damage loss, random value between 500K and 1000K\n",
        "    damage = np.random.uniform(500000, 1000000)\n",
        " \n",
        "    # loss = book value of lost jet + U(500,1000K)\n",
        "    tot_loss = loss_val + damage\n",
        "\n",
        "    losses = np.append(losses, tot_loss)\n",
        "  \n",
        "  return losses\n"
      ]
    },
    {
      "cell_type": "code",
      "execution_count": 39,
      "metadata": {
        "colab": {
          "base_uri": "https://localhost:8080/"
        },
        "id": "9TJT40ZjJ-Lb",
        "outputId": "5a73b8f2-98fd-4351-d2d7-75084fad00a2"
      },
      "outputs": [
        {
          "data": {
            "text/plain": [
              "array([4031706.95321522, 6465447.87133222, 6357566.50750231])"
            ]
          },
          "execution_count": 39,
          "metadata": {},
          "output_type": "execute_result"
        }
      ],
      "source": [
        "# losses in 3 years\n",
        "loss_per_yr(p, jets, props, 3)"
      ]
    },
    {
      "cell_type": "markdown",
      "metadata": {
        "id": "rnqsXMrpBz3f"
      },
      "source": [
        "**Expected number of lossed jets:**\n",
        "\n",
        "*  Binomial Expectation: np(1-p)\n",
        "\n",
        "\n"
      ]
    },
    {
      "cell_type": "code",
      "execution_count": 10,
      "metadata": {
        "colab": {
          "base_uri": "https://localhost:8080/"
        },
        "id": "xdMQH45BgcMg",
        "outputId": "c62c0765-e859-4006-bb61-d0057539872a"
      },
      "outputs": [
        {
          "data": {
            "text/plain": [
              "1.3148449158278812"
            ]
          },
          "execution_count": 10,
          "metadata": {},
          "output_type": "execute_result"
        }
      ],
      "source": [
        "(jets*p*(1-p)) "
      ]
    },
    {
      "cell_type": "markdown",
      "metadata": {
        "id": "H7xs3Cr-CIGx"
      },
      "source": [
        "**Expected loss in $:**"
      ]
    },
    {
      "cell_type": "code",
      "execution_count": 42,
      "metadata": {
        "colab": {
          "base_uri": "https://localhost:8080/"
        },
        "id": "HHQRa4l5h80r",
        "outputId": "4ead6f2e-1b9a-4322-8a60-f59c0e2a67af"
      },
      "outputs": [
        {
          "name": "stdout",
          "output_type": "stream",
          "text": [
            "The expected loss is: 6478892.63\n"
          ]
        }
      ],
      "source": [
        "# Average loss over 10,000 simulations\n",
        "means_3yr = np.array([])\n",
        "for y in range(10000):\n",
        "  means_3yr = np.append(means_3yr, np.mean(loss_per_yr(p, jets, props, 3)))\n",
        "\n",
        "print(\"The expected loss is:\", np.round(np.mean(means_3yr), 2))\n"
      ]
    },
    {
      "cell_type": "markdown",
      "metadata": {
        "id": "3Su7NStjCkwx"
      },
      "source": [
        "**Visualization of the Distribution of Crashes**"
      ]
    },
    {
      "cell_type": "code",
      "execution_count": 53,
      "metadata": {
        "colab": {
          "base_uri": "https://localhost:8080/",
          "height": 386
        },
        "id": "3Nx1F_QAIpHN",
        "outputId": "df35c456-8461-4a3d-ae46-394be33d3332"
      },
      "outputs": [
        {
          "data": {
            "image/png": "[encoded data removed]",
            "text/plain": [
              "<Figure size 360x360 with 1 Axes>"
            ]
          },
          "metadata": {
            "needs_background": "light"
          },
          "output_type": "display_data"
        }
      ],
      "source": [
        "sns.displot(data=loss_per_yr(p, jets, props, 1000), kind='hist')\n",
        "c=plt.title(\"Losses in 1000 simulations\")\n",
        "x=plt.xlabel(\"cost $\")"
      ]
    },
    {
      "cell_type": "markdown",
      "metadata": {
        "id": "zb9amHjqIY_8"
      },
      "source": [
        "**Distribution of the 3yr mean**"
      ]
    },
    {
      "cell_type": "code",
      "execution_count": 43,
      "metadata": {
        "colab": {
          "base_uri": "https://localhost:8080/",
          "height": 386
        },
        "id": "ov5Yn7sbIVKz",
        "outputId": "3c214adc-7c14-4d74-a2c4-749f9bc5b29f"
      },
      "outputs": [
        {
          "data": {
            "image/png": "[encoded data removed]",
            "text/plain": [
              "<Figure size 360x360 with 1 Axes>"
            ]
          },
          "metadata": {
            "needs_background": "light"
          },
          "output_type": "display_data"
        }
      ],
      "source": [
        "sns.displot(data=means_3yr, kind='hist')\n",
        "z=plt.title('3 yr mean loss $')\n",
        "v=plt.xlabel('loss in $')"
      ]
    },
    {
      "cell_type": "markdown",
      "metadata": {
        "id": "n50Cm-B4IsJX"
      },
      "source": [
        "## Low Commission Plan"
      ]
    },
    {
      "cell_type": "code",
      "execution_count": 12,
      "metadata": {
        "id": "8t02vqfBpkPo"
      },
      "outputs": [],
      "source": [
        "## Loss Conversion Plan Fuction\n",
        "\n",
        "def lcp(trials, loss_prob):\n",
        "  \"\"\"\n",
        "  Compute cost of Loss Coversion Plan over 3 year period\n",
        "  Repeat 'trials' times\n",
        "  Return mean cost\n",
        "  \"\"\"\n",
        "  # premium max and min\n",
        "  rate_hi = 1.05 / 100\n",
        "  rate_lo = 0.5 / 100\n",
        "\n",
        "  up_bound = rate_hi * insured\n",
        "  lo_bound = rate_lo * insured\n",
        "\n",
        "  runs = np.array([])\n",
        "\n",
        "  for simulation in range(trials):\n",
        "    prem3yr = np.array([])\n",
        "    loss3yr = loss_per_yr(loss_prob, jets, props, 3)\n",
        "\n",
        "    # calculate annual premium in 3yr period\n",
        "    count = 1\n",
        "    for i in loss3yr:\n",
        "      if up_bound < max(i*1.35, lo_bound):\n",
        "        prem = up_bound\n",
        "      else:\n",
        "        prem = max(i*1.35, lo_bound)\n",
        "      prem3yr = np.append(prem3yr, prem)\n",
        "      count+=1\n",
        "\n",
        "    tot_prem = sum(prem3yr)\n",
        "    credit = max((tot_prem - sum(loss3yr))*0.1, 0)\n",
        "    \n",
        "    plan_cost = tot_prem - credit\n",
        "    runs = np.append(runs, plan_cost)\n",
        "\n",
        "  return (np.mean(runs), runs)\n",
        "\n"
      ]
    },
    {
      "cell_type": "code",
      "execution_count": 14,
      "metadata": {
        "colab": {
          "base_uri": "https://localhost:8080/"
        },
        "id": "S8eCXFTB_NAQ",
        "outputId": "aa18f19d-0cb3-42f2-c3ea-87653e8763bc"
      },
      "outputs": [
        {
          "data": {
            "text/plain": [
              "(22663902.360725157,\n",
              " array([24481600.        , 29120328.39793801, 25716179.41273639,\n",
              "        28471016.32933583, 22128703.01011853, 22569520.46127924,\n",
              "        19109631.25594347, 16255999.10072123, 18903844.06822585,\n",
              "        19882201.570953  ]))"
            ]
          },
          "execution_count": 14,
          "metadata": {},
          "output_type": "execute_result"
        }
      ],
      "source": [
        "# 10 simulations\n",
        "lcp(10, p)"
      ]
    },
    {
      "cell_type": "markdown",
      "metadata": {
        "id": "eJqENm3WdFKZ"
      },
      "source": [
        "## Profit Commission Plan"
      ]
    },
    {
      "cell_type": "code",
      "execution_count": 15,
      "metadata": {
        "id": "W9MxSCr__NIh"
      },
      "outputs": [],
      "source": [
        "## Function to simulate cost of Profit Commission Plan\n",
        "\n",
        "def pcp(trials, loss_prob):\n",
        "  \"\"\"\n",
        "  Compute cost of plan 'trials' times and return the mean\n",
        "  \"\"\"\n",
        "  prem_plus = (0.25 / 100) * insured\n",
        "  up_bound = 0.01 * insured\n",
        "\n",
        "  runs = np.array([])\n",
        "\n",
        "  for j in range(trials):\n",
        "    premiums = np.array([])\n",
        "    credits = np.array([])\n",
        "    # simulate annual losses over 3yr period\n",
        "    loss3yr = loss_per_yr(loss_prob, jets, props, 3)\n",
        "\n",
        "    # calculate annual premium and credit over 3yr period \n",
        "    for i in loss3yr:\n",
        "      if up_bound < i + prem_plus:\n",
        "        prem = up_bound\n",
        "      else:\n",
        "        prem = i + prem_plus\n",
        "      premiums = np.append(premiums, prem)\n",
        "      \n",
        "      # annual credit\n",
        "      cred = max(prem - (i + ((0.2 / 100) * insured)), 0)\n",
        "      credits = np.append(credits, cred)\n",
        "\n",
        "    # totals at end of 3yr period\n",
        "    total_prem = sum(premiums)\n",
        "    total_cred = sum(credits)\n",
        "\n",
        "   \n",
        "    # plan cost\n",
        "    plan_cost = total_prem - max(total_cred, 0)\n",
        "    runs = np.append(runs, plan_cost)\n",
        "    \n",
        "  return (np.mean(runs), runs)\n",
        "\n"
      ]
    },
    {
      "cell_type": "markdown",
      "metadata": {
        "id": "r1zjpH3VoQFI"
      },
      "source": [
        "## Simulate plans to get average cost"
      ]
    },
    {
      "cell_type": "code",
      "execution_count": 18,
      "metadata": {
        "colab": {
          "base_uri": "https://localhost:8080/"
        },
        "id": "MZssnQ1boWDy",
        "outputId": "4497f096-9914-4c67-8dfd-dae64ce60996"
      },
      "outputs": [
        {
          "name": "stdout",
          "output_type": "stream",
          "text": [
            "Expected Value of Loss Commission Plan cost after 1000 simulations: 21583889.6\n"
          ]
        }
      ],
      "source": [
        "print(\"Expected Value of Loss Commission Plan cost after 1000 simulations:\", np.round(lcp(10000, p)[0], 2))"
      ]
    },
    {
      "cell_type": "code",
      "execution_count": 16,
      "metadata": {
        "colab": {
          "base_uri": "https://localhost:8080/"
        },
        "id": "p3m7OZ0Eob5w",
        "outputId": "b69a7843-12c9-481d-d9c6-6681a92809bc"
      },
      "outputs": [
        {
          "name": "stdout",
          "output_type": "stream",
          "text": [
            "Expected Value of Profit Commission Plan cost after 1000 simulations: 20044533.83\n"
          ]
        }
      ],
      "source": [
        "print(\"Expected Value of Profit Commission Plan cost after 1000 simulations:\", np.round(pcp(10000, p)[0], 2))"
      ]
    },
    {
      "cell_type": "markdown",
      "metadata": {
        "id": "tjwFSwHMeJLy"
      },
      "source": [
        "### Visualizations"
      ]
    },
    {
      "cell_type": "code",
      "execution_count": 36,
      "metadata": {
        "colab": {
          "base_uri": "https://localhost:8080/",
          "height": 295
        },
        "id": "7ORMeZ_WVag5",
        "outputId": "ebb09f78-d5b4-4097-9bea-a670c87ac519"
      },
      "outputs": [
        {
          "data": {
            "image/png": "[encoded data removed]",
            "text/plain": [
              "<Figure size 432x288 with 1 Axes>"
            ]
          },
          "metadata": {
            "needs_background": "light"
          },
          "output_type": "display_data"
        }
      ],
      "source": [
        "sns.histplot(data=lcp(10000,p)[1], bins=30, kde=True)\n",
        "c=plt.title(\"Low Comission Plan 10,000 simulations\")\n",
        "x=plt.xlabel(\"cost $\")"
      ]
    },
    {
      "cell_type": "code",
      "execution_count": 37,
      "metadata": {
        "colab": {
          "base_uri": "https://localhost:8080/",
          "height": 295
        },
        "id": "aMiej8AOefHb",
        "outputId": "903c475f-f455-4c11-cc21-16763bd77fad"
      },
      "outputs": [
        {
          "data": {
            "image/png": "[encoded data removed]",
            "text/plain": [
              "<Figure size 432x288 with 1 Axes>"
            ]
          },
          "metadata": {
            "needs_background": "light"
          },
          "output_type": "display_data"
        }
      ],
      "source": [
        "sns.histplot(data=pcp(10000,p)[1], bins=30, kde=True)\n",
        "c=plt.title(\"Profit Comission Plan 10,00 simulations\")\n",
        "x=plt.xlabel(\"cost $\")"
      ]
    },
    {
      "cell_type": "markdown",
      "metadata": {
        "id": "OMjQlY2iejeO"
      },
      "source": [
        "#### **Joint visualizations**"
      ]
    },
    {
      "cell_type": "code",
      "execution_count": 23,
      "metadata": {
        "id": "gz8iZoFVV4yf"
      },
      "outputs": [],
      "source": [
        "# generate dataframe with simulation data for plotting\n",
        "sims = 10000\n",
        "lcp_sim = lcp(sims,p)[1]\n",
        "pcp_sim = pcp(sims,p)[1]\n",
        "data = {'lcp': lcp_sim, 'pcp': pcp_sim}\n",
        "sims_df = pd.DataFrame(data)\n",
        "# sims_df"
      ]
    },
    {
      "cell_type": "code",
      "execution_count": null,
      "metadata": {
        "colab": {
          "base_uri": "https://localhost:8080/",
          "height": 386
        },
        "id": "iR3djGquXPvz",
        "outputId": "a5e16d9d-31e1-4b97-cd2d-3224901cbf4a"
      },
      "outputs": [
        {
          "data": {
            "image/png": "[encoded data removed]",
            "text/plain": [
              "<Figure size 414x360 with 1 Axes>"
            ]
          },
          "metadata": {
            "needs_background": "light"
          },
          "output_type": "display_data"
        }
      ],
      "source": [
        "## Plotting\n",
        "sns.displot(data=sims_df, kind='hist', palette=['green', 'red'], fill=True)\n",
        "plt.xlabel('Cost $')\n",
        "plt.axvline(x=sims_df['lcp'].mean(), color='k', label='mean lcp')\n",
        "plt.axvline(x=sims_df['pcp'].mean(), color='r', label='mean pcp')\n",
        "plt.legend()\n",
        "t=plt.title(\"Plan Costs from 10,000 simulations\")"
      ]
    },
    {
      "cell_type": "code",
      "execution_count": 40,
      "metadata": {
        "colab": {
          "base_uri": "https://localhost:8080/",
          "height": 375
        },
        "id": "DNeByB7lEw8Q",
        "outputId": "0cd8ab76-d53f-4dce-b421-4e66a5ba9339"
      },
      "outputs": [
        {
          "data": {
            "image/png": "[encoded data removed]",
            "text/plain": [
              "<Figure size 414x360 with 1 Axes>"
            ]
          },
          "metadata": {
            "needs_background": "light"
          },
          "output_type": "display_data"
        }
      ],
      "source": [
        "## Plotting - kernel density \n",
        "sns.displot(data=sims_df, kind='kde', palette=['green', 'red'], fill=True)\n",
        "plt.xlabel('Cost $')\n",
        "plt.axvline(x=sims_df['lcp'].mean(), color='k', label='mean lcp')\n",
        "plt.axvline(x=sims_df['pcp'].mean(), color='r', label='mean pcp')\n",
        "plt.legend()\n",
        "t=plt.title(\"Plan Costs from 10,000 simulations\")"
      ]
    },
    {
      "cell_type": "code",
      "execution_count": 29,
      "metadata": {
        "colab": {
          "base_uri": "https://localhost:8080/",
          "height": 382
        },
        "id": "dL8WNi4XZ497",
        "outputId": "b7f47b0b-da84-448b-8f78-e81982313b67"
      },
      "outputs": [
        {
          "data": {
            "image/png": "[encoded data removed]",
            "text/plain": [
              "<Figure size 414x360 with 1 Axes>"
            ]
          },
          "metadata": {
            "needs_background": "light"
          },
          "output_type": "display_data"
        }
      ],
      "source": [
        "sns.displot(sims_df, palette=['green', 'red'], kind=\"ecdf\")\n",
        "plt.xlabel('cost $')\n",
        "plt.grid(b=True, which='major', axis='both')\n",
        "z=plt.title('Cummulative Distribution of Cost')"
      ]
    },
    {
      "cell_type": "markdown",
      "metadata": {
        "id": "jigdy5G6J8iA"
      },
      "source": [
        "## Cost variation as a function of crash probability\n",
        "\n",
        "What if the probability of crashing changed?"
      ]
    },
    {
      "cell_type": "code",
      "execution_count": 25,
      "metadata": {
        "colab": {
          "base_uri": "https://localhost:8080/"
        },
        "id": "uixBOiNlKI59",
        "outputId": "773d5ac0-7ae2-4326-cd3c-8e39d65fac5d"
      },
      "outputs": [
        {
          "data": {
            "text/plain": [
              "array([0.0004    , 0.00128718, 0.00217436, 0.00306154, 0.00394872,\n",
              "       0.0048359 , 0.00572308, 0.00661026, 0.00749744, 0.00838462,\n",
              "       0.00927179, 0.01015897, 0.01104615, 0.01193333, 0.01282051,\n",
              "       0.01370769, 0.01459487, 0.01548205, 0.01636923, 0.01725641,\n",
              "       0.01814359, 0.01903077, 0.01991795, 0.02080513, 0.02169231,\n",
              "       0.02257949, 0.02346667, 0.02435385, 0.02524103, 0.02612821,\n",
              "       0.02701538, 0.02790256, 0.02878974, 0.02967692, 0.0305641 ,\n",
              "       0.03145128, 0.03233846, 0.03322564, 0.03411282, 0.035     ])"
            ]
          },
          "execution_count": 25,
          "metadata": {},
          "output_type": "execute_result"
        }
      ],
      "source": [
        "# array of crash probabilities\n",
        "risk = np.linspace(0.0004, 0.035, 40)\n",
        "risk"
      ]
    },
    {
      "cell_type": "markdown",
      "metadata": {
        "id": "Y7frEMIWae4e"
      },
      "source": [
        "Loss in dollars as function of probability"
      ]
    },
    {
      "cell_type": "code",
      "execution_count": 26,
      "metadata": {
        "id": "TkRZsk0gT4t6"
      },
      "outputs": [],
      "source": [
        "# Average 3 yr loss as a function of crash probability\n",
        "iters = 1000\n",
        "\n",
        "scenarios = np.array([])\n",
        "for prob in risk:\n",
        "  ev = np.array([])\n",
        "\n",
        "  # simulate a number of times for current probability\n",
        "  for y in range(iters):\n",
        "    ev = np.append(ev, np.mean(loss_per_yr(prob, jets, props, 3)))\n",
        "    # alternate; not taking 3 year average\n",
        "    # ev = np.append(ev, loss_per_yr(prob, jets, props, 1))\n",
        "\n",
        "  scenarios = np.append(scenarios, np.mean(ev))\n"
      ]
    },
    {
      "cell_type": "markdown",
      "metadata": {
        "id": "-7GicAVJZ9qU"
      },
      "source": [
        "Plan costs as a function of crash probability"
      ]
    },
    {
      "cell_type": "code",
      "execution_count": 27,
      "metadata": {
        "id": "5qylh8BOaCra"
      },
      "outputs": [],
      "source": [
        "# Low Commission Plan\n",
        "iters = 1000\n",
        "\n",
        "lc_plans = np.array([])\n",
        "pc_plans = np.array([])\n",
        "\n",
        "for j in risk:\n",
        "\n",
        "  # simulate plans many times for current probability\n",
        "  lc_plans = np.append(lc_plans, lcp(iters,j)[0])\n",
        "  pc_plans = np.append(pc_plans, pcp(iters,j)[0])\n",
        " \n"
      ]
    },
    {
      "cell_type": "code",
      "execution_count": 32,
      "metadata": {
        "colab": {
          "base_uri": "https://localhost:8080/",
          "height": 295
        },
        "id": "jKbZfM01W62h",
        "outputId": "a6f482da-81f1-41c1-969a-9eee176d1ac5"
      },
      "outputs": [
        {
          "data": {
            "image/png": "[encoded data removed]",
            "text/plain": [
              "<Figure size 432x288 with 1 Axes>"
            ]
          },
          "metadata": {
            "needs_background": "light"
          },
          "output_type": "display_data"
        }
      ],
      "source": [
        "fig, ax = plt.subplots()\n",
        "# ax.plot(risk, scenarios1, label='without 3 year mean')\n",
        "ax.plot(risk, scenarios, label='loss 3 year mean')\n",
        "ax.plot(risk, lc_plans, label='lcp cost')\n",
        "ax.plot(risk, pc_plans, label='pcp cost')\n",
        "ax.set_title('Cost as a function of crash probability')\n",
        "ax.set_ylabel('$')\n",
        "ax.set_xlabel('crash probability')\n",
        "plt.axvline(x=p, color='r', label='Eastern crash record')\n",
        "ax.grid(b=True, which='major', axis='both')\n",
        "o=ax.legend()"
      ]
    },
    {
      "cell_type": "markdown",
      "metadata": {
        "id": "MLQYyP03SsBZ"
      },
      "source": [
        "After a certain probability, the plan premiums reach their upper bound."
      ]
    }
  ],
  "metadata": {
    "colab": {
      "collapsed_sections": [],
      "name": "jets.ipynb",
      "provenance": []
    },
    "kernelspec": {
      "display_name": "Python 3",
      "name": "python3"
    },
    "language_info": {
      "name": "python"
    }
  },
  "nbformat": 4,
  "nbformat_minor": 0
}
