{
 "cells": [
  {
   "cell_type": "markdown",
   "metadata": {},
   "source": [
    "## Monte Carlo Simulation\n",
    "This personal monte carlo project was developed in review of the HBS case Marsh & McLennan (A) revised in August 1992. \n",
    "\n",
    "In this simulation, we evaluate two aircraft hull insurance and make recommendations for which one is more cost-effective relative within a wide range of loss-scenarios over 10,000 simulation runs. Two plans under consideration are:\n",
    "\n",
    "**(1) Loss Conversion Plan (LCP)** which has the following features:\n",
    "- Annual premium calculated as 135% of incurred losses subject to:\n",
    "    - max. annual rate of $1.05 per $100 insured value\n",
    "    - min. annual rate of $.50 per $100 insured value\n",
    "- Incentive credit calculated as \n",
    "    - 10% x (Tot. 3-yr premiums – Tot. 3-yr losses) provided plan runs for full 3-year term and total 3-year premiums > total 3-year losses\n",
    "\n",
    "**(2) Profit Commission Plan (PCP)** which has the following features:\n",
    "- Annual premium calculated as Losses plus $.25 per $100 insured subject to max. annual premium of 1% of insured value\n",
    "- Incentive credit calculated as:\n",
    "    - Tot. 3-yr premiums *less* Tot.3-yr losses + ($0.2 per $100 insured value/year x 3 years) if any excess exists\n",
    " \n",
    "For the average industry crash-rate, we use findings from FAA research report between 9167 and 1968. During this period of time, 15,660,000 “equivalent hours” were recorded, with total losses of jet aircraft numbering 10. This translates to a crash rate of 0.006424 or 0.64%.\n",
    "\n",
    "Plane insured value information is captured from the case. \n",
    "\n",
    "This is an example of a business planning and optimization problem that must take into account risk and uncertainty as we actually should.\n"
   ]
  },
  {
   "cell_type": "code",
   "execution_count": 51,
   "metadata": {},
   "outputs": [],
   "source": [
    "import random\n",
    "import numpy as np\n",
    "import pandas as pd\n",
    "import scipy.stats as st\n",
    "import matplotlib.pyplot as plt\n",
    "import seaborn as sns"
   ]
  },
  {
   "cell_type": "code",
   "execution_count": 52,
   "metadata": {},
   "outputs": [
    {
     "data": {
      "text/html": [
       "<div>\n",
       "<style scoped>\n",
       "    .dataframe tbody tr th:only-of-type {\n",
       "        vertical-align: middle;\n",
       "    }\n",
       "\n",
       "    .dataframe tbody tr th {\n",
       "        vertical-align: top;\n",
       "    }\n",
       "\n",
       "    .dataframe thead th {\n",
       "        text-align: right;\n",
       "    }\n",
       "</style>\n",
       "<table border=\"1\" class=\"dataframe\">\n",
       "  <thead>\n",
       "    <tr style=\"text-align: right;\">\n",
       "      <th></th>\n",
       "      <th>Aircraft</th>\n",
       "      <th>No of planes</th>\n",
       "      <th>Plane value (book)</th>\n",
       "      <th>Plane value (insured)</th>\n",
       "    </tr>\n",
       "  </thead>\n",
       "  <tbody>\n",
       "    <tr>\n",
       "      <th>0</th>\n",
       "      <td>DC-8-61</td>\n",
       "      <td>17</td>\n",
       "      <td>8709000</td>\n",
       "      <td>9000000</td>\n",
       "    </tr>\n",
       "    <tr>\n",
       "      <th>1</th>\n",
       "      <td>DC-8-63</td>\n",
       "      <td>2</td>\n",
       "      <td>11100000</td>\n",
       "      <td>11300000</td>\n",
       "    </tr>\n",
       "    <tr>\n",
       "      <th>2</th>\n",
       "      <td>DC-9-14</td>\n",
       "      <td>15</td>\n",
       "      <td>3310000</td>\n",
       "      <td>3400000</td>\n",
       "    </tr>\n",
       "    <tr>\n",
       "      <th>3</th>\n",
       "      <td>DC-9-21</td>\n",
       "      <td>14</td>\n",
       "      <td>2772000</td>\n",
       "      <td>3000000</td>\n",
       "    </tr>\n",
       "    <tr>\n",
       "      <th>4</th>\n",
       "      <td>DC-9-3</td>\n",
       "      <td>62</td>\n",
       "      <td>3825000</td>\n",
       "      <td>3900000</td>\n",
       "    </tr>\n",
       "    <tr>\n",
       "      <th>5</th>\n",
       "      <td>DC-9-31</td>\n",
       "      <td>5</td>\n",
       "      <td>3825000</td>\n",
       "      <td>3900000</td>\n",
       "    </tr>\n",
       "    <tr>\n",
       "      <th>6</th>\n",
       "      <td>720</td>\n",
       "      <td>15</td>\n",
       "      <td>2455000</td>\n",
       "      <td>3200000</td>\n",
       "    </tr>\n",
       "    <tr>\n",
       "      <th>7</th>\n",
       "      <td>727</td>\n",
       "      <td>50</td>\n",
       "      <td>3854000</td>\n",
       "      <td>4200000</td>\n",
       "    </tr>\n",
       "    <tr>\n",
       "      <th>8</th>\n",
       "      <td>727-225</td>\n",
       "      <td>1</td>\n",
       "      <td>6092225</td>\n",
       "      <td>6200000</td>\n",
       "    </tr>\n",
       "    <tr>\n",
       "      <th>9</th>\n",
       "      <td>727-QC</td>\n",
       "      <td>25</td>\n",
       "      <td>5710000</td>\n",
       "      <td>5900000</td>\n",
       "    </tr>\n",
       "  </tbody>\n",
       "</table>\n",
       "</div>"
      ],
      "text/plain": [
       "  Aircraft  No of planes  Plane value (book)  Plane value (insured)\n",
       "0  DC-8-61            17             8709000                9000000\n",
       "1  DC-8-63             2            11100000               11300000\n",
       "2  DC-9-14            15             3310000                3400000\n",
       "3  DC-9-21            14             2772000                3000000\n",
       "4   DC-9-3            62             3825000                3900000\n",
       "5  DC-9-31             5             3825000                3900000\n",
       "6      720            15             2455000                3200000\n",
       "7      727            50             3854000                4200000\n",
       "8  727-225             1             6092225                6200000\n",
       "9   727-QC            25             5710000                5900000"
      ]
     },
     "execution_count": 52,
     "metadata": {},
     "output_type": "execute_result"
    }
   ],
   "source": [
    "# create dataset of plane models, counts and book/insured values\n",
    "plane_data = pd.read_excel(\"marsh_data.xls\")\n",
    "plane_data"
   ]
  },
  {
   "cell_type": "code",
   "execution_count": 53,
   "metadata": {},
   "outputs": [
    {
     "data": {
      "text/plain": [
       "941600000"
      ]
     },
     "execution_count": 53,
     "metadata": {},
     "output_type": "execute_result"
    }
   ],
   "source": [
    "TOTAL_INS_VAL = (plane_data['Plane value (insured)'] * plane_data['No of planes']).sum()\n",
    "TOTAL_INS_VAL"
   ]
  },
  {
   "cell_type": "code",
   "execution_count": 54,
   "metadata": {},
   "outputs": [
    {
     "data": {
      "text/plain": [
       "{'Aircraft': {0: 'DC-8-61',\n",
       "  1: 'DC-8-63',\n",
       "  2: 'DC-9-14',\n",
       "  3: 'DC-9-21',\n",
       "  4: 'DC-9-3',\n",
       "  5: 'DC-9-31',\n",
       "  6: 720,\n",
       "  7: 727,\n",
       "  8: '727-225',\n",
       "  9: '727-QC'},\n",
       " 'No of planes': {0: 17,\n",
       "  1: 2,\n",
       "  2: 15,\n",
       "  3: 14,\n",
       "  4: 62,\n",
       "  5: 5,\n",
       "  6: 15,\n",
       "  7: 50,\n",
       "  8: 1,\n",
       "  9: 25},\n",
       " 'Plane value (book)': {0: 8709000,\n",
       "  1: 11100000,\n",
       "  2: 3310000,\n",
       "  3: 2772000,\n",
       "  4: 3825000,\n",
       "  5: 3825000,\n",
       "  6: 2455000,\n",
       "  7: 3854000,\n",
       "  8: 6092225,\n",
       "  9: 5710000},\n",
       " 'Plane value (insured)': {0: 9000000,\n",
       "  1: 11300000,\n",
       "  2: 3400000,\n",
       "  3: 3000000,\n",
       "  4: 3900000,\n",
       "  5: 3900000,\n",
       "  6: 3200000,\n",
       "  7: 4200000,\n",
       "  8: 6200000,\n",
       "  9: 5900000}}"
      ]
     },
     "execution_count": 54,
     "metadata": {},
     "output_type": "execute_result"
    }
   ],
   "source": [
    "data_dict = plane_data.to_dict()\n",
    "data_dict"
   ]
  },
  {
   "cell_type": "code",
   "execution_count": 55,
   "metadata": {},
   "outputs": [],
   "source": [
    "plane_data['Aircraft'] = plane_data['Aircraft'].astype(str) # convert plane model types to strings to take care of integer models e.g. 727"
   ]
  },
  {
   "cell_type": "code",
   "execution_count": 56,
   "metadata": {},
   "outputs": [],
   "source": [
    "fleet = plane_data[\"No of planes\"].sum() # total planes in fleet"
   ]
  },
  {
   "cell_type": "code",
   "execution_count": 57,
   "metadata": {},
   "outputs": [],
   "source": [
    "plane_data['pval'] = plane_data['No of planes'] / fleet # plane model proportions of total fleet\n"
   ]
  },
  {
   "cell_type": "code",
   "execution_count": 58,
   "metadata": {},
   "outputs": [
    {
     "data": {
      "text/plain": [
       "{'DC-8-61': (17, 9000000, 0.0825242718446602),\n",
       " 'DC-8-63': (2, 11300000, 0.009708737864077669),\n",
       " 'DC-9-14': (15, 3400000, 0.07281553398058252),\n",
       " 'DC-9-21': (14, 3000000, 0.06796116504854369),\n",
       " 'DC-9-3': (62, 3900000, 0.30097087378640774),\n",
       " 'DC-9-31': (5, 3900000, 0.024271844660194174),\n",
       " '720': (15, 3200000, 0.07281553398058252),\n",
       " '727': (50, 4200000, 0.24271844660194175),\n",
       " '727-225': (1, 6200000, 0.0048543689320388345),\n",
       " '727-QC': (25, 5900000, 0.12135922330097088)}"
      ]
     },
     "execution_count": 58,
     "metadata": {},
     "output_type": "execute_result"
    }
   ],
   "source": [
    "# create a dictionary containing all required information for each plane model\n",
    "info_dict = {}\n",
    "\n",
    "for idx in range(plane_data.shape[0]):\n",
    "    info_dict[str(plane_data.loc[idx, 'Aircraft'])] = (plane_data.loc[idx, 'No of planes'], plane_data.loc[idx, 'Plane value (insured)'],\n",
    "                                                    plane_data.loc[idx, 'pval'])\n",
    "info_dict"
   ]
  },
  {
   "cell_type": "code",
   "execution_count": 59,
   "metadata": {},
   "outputs": [
    {
     "data": {
      "text/plain": [
       "0.006424010217113665"
      ]
     },
     "execution_count": 59,
     "metadata": {},
     "output_type": "execute_result"
    }
   ],
   "source": [
    "# create a function to get the number of losses per year\n",
    "hours, crashes = 15660000, 10 # per FAA research report\n",
    "hour_per_plane = 10060 # From the case, this is the average flight hours per plane in fleet\n",
    "fleet_hours = fleet * hour_per_plane\n",
    "fleet_crashes = (fleet_hours / hours) * crashes\n",
    "crash_rate = fleet_crashes / fleet\n",
    "crash_rate"
   ]
  },
  {
   "cell_type": "code",
   "execution_count": 60,
   "metadata": {},
   "outputs": [],
   "source": [
    "# create function to calculate number of crashes in a year\n",
    "def crash_count(fleet, rate):\n",
    "    \"\"\"\n",
    "    returns number of crashes in a a year based on binomial\n",
    "    distribution parameters\n",
    "    \"\"\"\n",
    "    return np.random.binomial(fleet, rate)"
   ]
  },
  {
   "cell_type": "code",
   "execution_count": 61,
   "metadata": {},
   "outputs": [],
   "source": [
    "def plane_type(num_crashes):\n",
    "    \"\"\"\n",
    "    given a number of crashes, produces the plane \n",
    "    types for each crash count\n",
    "    \"\"\"\n",
    "    crash_info = {}\n",
    "    plane_array = np.random.multinomial(num_crashes, plane_data['pval'])\n",
    "\n",
    "    plane_idx = plane_array.nonzero() # get the index of non-zero elements i.e., plane models which crashed\n",
    "    # populate dictionary with plane type and number of crashes\n",
    "    for elem in plane_idx[0]:\n",
    "        crash_info[plane_data['Aircraft'][elem]] = plane_array[elem]\n",
    "\n",
    "\n",
    "    return crash_info"
   ]
  },
  {
   "cell_type": "code",
   "execution_count": 63,
   "metadata": {},
   "outputs": [],
   "source": [
    "def losses(crash_info, low=500000, high=1000000):\n",
    "    \"\"\"\n",
    "    takes a dictionary of crashes plane models \n",
    "    and crash count for each model and gives the loss\n",
    "    \"\"\"\n",
    "    total_loss = 0\n",
    "\n",
    "    for key, value in crash_info.items():\n",
    "        insured_val = info_dict[key][1]\n",
    "        total_loss += insured_val * value + np.random.uniform(low, high)\n",
    "    \n",
    "    return total_loss"
   ]
  },
  {
   "cell_type": "code",
   "execution_count": 64,
   "metadata": {},
   "outputs": [],
   "source": [
    "def lcp_premium(loss, min_rate=0.5, max_rate=1.05, percent=1.35, tot_val_insured=TOTAL_INS_VAL):\n",
    "    \"\"\"\n",
    "    Computes the premium based on the loss value\n",
    "    for loss conversion plan\n",
    "    \"\"\"\n",
    "    min_rate = min_rate\n",
    "    max_rate = max_rate\n",
    "    percent = percent\n",
    "    max_premium = max_rate * tot_val_insured / 100\n",
    "    min_premium = min_rate * tot_val_insured / 100\n",
    "    raw_premium = percent * loss\n",
    "\n",
    "    if raw_premium < min_premium:\n",
    "        return min_premium\n",
    "    elif raw_premium < max_premium:\n",
    "        return raw_premium\n",
    "    else:\n",
    "        return max_premium"
   ]
  },
  {
   "cell_type": "code",
   "execution_count": 65,
   "metadata": {},
   "outputs": [],
   "source": [
    "def lcp_credit(total_premium, total_losses):\n",
    "    \"\"\"\n",
    "    calculates incentive credit for lcp\n",
    "    based on total losses\n",
    "    \"\"\"\n",
    "    return max(0, 0.1*(total_premium - total_losses))\n",
    "    "
   ]
  },
  {
   "cell_type": "code",
   "execution_count": 66,
   "metadata": {},
   "outputs": [],
   "source": [
    "def pcp_premium(loss, tot_val_insured=TOTAL_INS_VAL, rate=0.25):\n",
    "    \"\"\"\n",
    "    Computes the premium based on the loss value\n",
    "    for profit commission plan\n",
    "    \"\"\"\n",
    "    max_premium = tot_val_insured * 0.01\n",
    "    rate = rate\n",
    "\n",
    "    return min(max_premium, loss + rate * max_premium)\n",
    "\n",
    "\n"
   ]
  },
  {
   "cell_type": "code",
   "execution_count": 67,
   "metadata": {},
   "outputs": [],
   "source": [
    "def pcp_credit(total_premium, total_losses, years=3):\n",
    "    \"\"\"\n",
    "    calculates incentive credit for pcp\n",
    "    based on total losses\n",
    "    \"\"\" \n",
    "    rate = 0.2\n",
    "    value_per_100USD = TOTAL_INS_VAL * 0.01\n",
    "    return max(0, total_premium - (rate * value_per_100USD * years + total_losses)) "
   ]
  },
  {
   "cell_type": "code",
   "execution_count": 68,
   "metadata": {},
   "outputs": [],
   "source": [
    "def run_simulation(fleet=fleet, rate=crash_rate, trials=10000, years=3, seed=100):\n",
    "    \"\"\"\n",
    "    Run the LCP simulation\n",
    "    \"\"\"\n",
    "    lcp_costs = np.array([])\n",
    "    pcp_costs = np.array([])\n",
    "    loss_data = np.array([])\n",
    "\n",
    "    for dummy in range(trials):\n",
    "        # get the losses for each year and then total them to get credit and final losses\n",
    "        annual_loss = np.array([])\n",
    "        lcp_annual_premium = np.array([])\n",
    "        pcp_annual_premium = np.array([])\n",
    "\n",
    "        for dummy_idx in range(years):\n",
    "            crashes = crash_count(fleet, rate) # get the number of crashes\n",
    "            planes = plane_type(crashes) # get the type of planes involved in the crashes\n",
    "            loss = losses(planes)\n",
    "            annual_loss = np.append(annual_loss, loss)\n",
    "            # compute premiums for LCP & PCP plans\n",
    "            lcp_annual_premium = np.append(lcp_annual_premium, lcp_premium(loss))\n",
    "            pcp_annual_premium = np.append(pcp_annual_premium, pcp_premium(loss))\n",
    "\n",
    "        \n",
    "        # compute total losses and premiums for the 3 years\n",
    "        tot_losses = annual_loss.sum()\n",
    "        tot_lcp_premium = lcp_annual_premium.sum()\n",
    "        tot_pcp_premium = pcp_annual_premium.sum()\n",
    "\n",
    "        loss_data = np.append(loss_data, tot_losses)\n",
    "        lcp_incentive_credit = lcp_credit(tot_lcp_premium, tot_losses) # get the incentive credit after 3 years\n",
    "        pcp_incentive_credit = pcp_credit(tot_pcp_premium, tot_losses)\n",
    "\n",
    "        #calculate the cost for that 3-year period for both plans\n",
    "        lcp_cost = tot_lcp_premium - lcp_incentive_credit\n",
    "        pcp_cost = tot_pcp_premium - pcp_incentive_credit\n",
    "\n",
    "        # add these values to the costs per simulation\n",
    "        lcp_costs = np.append(lcp_costs, lcp_cost)\n",
    "        pcp_costs = np.append(pcp_costs, pcp_cost)\n",
    "    \n",
    "    return lcp_costs.mean(), pcp_costs.mean(), loss_data, lcp_costs, pcp_costs # at the end of the simulation trial runs "
   ]
  },
  {
   "cell_type": "code",
   "execution_count": 69,
   "metadata": {},
   "outputs": [
    {
     "data": {
      "text/plain": [
       "(21962654.695870813,\n",
       " 20239790.768083073,\n",
       " array([ 8670491.94486139,  4881296.5074751 , 30043743.35089404, ...,\n",
       "        20859679.26978647, 14347111.89410077, 40056074.45054787]),\n",
       " array([15638896.90749272, 14893304.90732976, 19302800.        , ...,\n",
       "        19747362.52650164, 18807231.18941008, 24481600.        ]),\n",
       " array([14320091.94486139, 10530896.5074751 , 14124000.        , ...,\n",
       "        17940712.9825938 , 14124000.        , 21186000.        ]))"
      ]
     },
     "execution_count": 69,
     "metadata": {},
     "output_type": "execute_result"
    }
   ],
   "source": [
    "test1 = run_simulation()\n",
    "test1"
   ]
  },
  {
   "cell_type": "code",
   "execution_count": 70,
   "metadata": {},
   "outputs": [],
   "source": [
    "# FINAL FUNCTION\n",
    "# create a plot function here that will make the results into a pandas table and then do a count of times LCP > PCP\n",
    "# out of N trials and then give the counts and then make plots of pdf and cdf\n",
    "\n",
    "def show_results(simulation_result):\n",
    "    \"\"\"\n",
    "    Takes the output of the simulation and returns\n",
    "    proportion of times that the the PCP plan is higher\n",
    "    than the LCP plan, as well as the expected value of\n",
    "    each of the plans\n",
    "\n",
    "    input: tuple of elements: mean LCP cost, mean PCP cost,\n",
    "                            annual total losses, LCP costs, PCP costs\n",
    "    \"\"\"\n",
    "    # get both the pcp and lcp plans into a dataframe\n",
    "    data_frame = pd.DataFrame({'Losses': simulation_result[2], 'LCP_costs': simulation_result[3], 'PCP_costs': simulation_result[4]})\n",
    "    trials = data_frame.shape[0]\n",
    "    \n",
    "    # get count and proportion times LCP > PCP\n",
    "    lcp_higher_count = np.where(data_frame['LCP_costs'] > data_frame['PCP_costs'], 1, 0).sum()\n",
    "    lcp_higher_proportion = lcp_higher_count / trials\n",
    "    pcp_higher_proportion = 1 - lcp_higher_proportion\n",
    "    \n",
    "    # get the expected value of both plans and package all results in a dictionary\n",
    "    lcp_mean = simulation_result[0]\n",
    "    pcp_mean = simulation_result[1]\n",
    "    result_dict = {'LCP Expected Value': lcp_mean,\n",
    "                    'PCP Expected Value': pcp_mean,\n",
    "                    'LCP Higher perc. of Trials': str(np.round(lcp_higher_proportion * 100, 2))+\"%\",\n",
    "                    'PCP Higher perc. of Trials': str(np.round(pcp_higher_proportion * 100, 2))+\"%\",\n",
    "                    'Simulation Runs': trials}\n",
    "    \n",
    "    # plot pdf and cdf plots for both plans \n",
    "    fig, ((ax1, ax2), (ax3, ax4)) = plt.subplots(2, 2)\n",
    "    # fig, ax1 = plt.subplots()\n",
    "    probs = np.arange(trials) / float(trials)\n",
    "    fig.set_size_inches(15, 7)\n",
    "    ax1.hist(simulation_result[3], bins=20)\n",
    "    ax1.set_title(\"LCP costs distribution\")\n",
    "    ax2.plot(np.sort(simulation_result[3]), probs)\n",
    "    ax2.set_title(\"LCP CDF\")\n",
    "    ax3.hist(simulation_result[4], bins=20)\n",
    "    ax3.set_title(\"PCP costs distribution\")\n",
    "    ax4.plot(np.sort(simulation_result[4]), probs)\n",
    "    ax4.set_title(\"PCP CDF\")\n",
    "\n",
    "\n",
    "\n",
    "    return result_dict, data_frame.describe()"
   ]
  },
  {
   "cell_type": "code",
   "execution_count": 71,
   "metadata": {},
   "outputs": [
    {
     "data": {
      "text/plain": [
       "{'LCP Expected Value': 21962654.695870813,\n",
       " 'PCP Expected Value': 20239790.768083073,\n",
       " 'LCP Higher perc. of Trials': '80.37%',\n",
       " 'PCP Higher perc. of Trials': '19.63%',\n",
       " 'Simulation Runs': 10000}"
      ]
     },
     "execution_count": 71,
     "metadata": {},
     "output_type": "execute_result"
    },
    {
     "data": {
      "image/png": "[encoded data removed]",
      "text/plain": [
       "<Figure size 1080x504 with 4 Axes>"
      ]
     },
     "metadata": {
      "needs_background": "light"
     },
     "output_type": "display_data"
    }
   ],
   "source": [
    "display = show_results(test1)\n",
    "display[0]"
   ]
  },
  {
   "cell_type": "code",
   "execution_count": 72,
   "metadata": {},
   "outputs": [
    {
     "data": {
      "text/html": [
       "<div>\n",
       "<style scoped>\n",
       "    .dataframe tbody tr th:only-of-type {\n",
       "        vertical-align: middle;\n",
       "    }\n",
       "\n",
       "    .dataframe tbody tr th {\n",
       "        vertical-align: top;\n",
       "    }\n",
       "\n",
       "    .dataframe thead th {\n",
       "        text-align: right;\n",
       "    }\n",
       "</style>\n",
       "<table border=\"1\" class=\"dataframe\">\n",
       "  <thead>\n",
       "    <tr style=\"text-align: right;\">\n",
       "      <th></th>\n",
       "      <th>Losses</th>\n",
       "      <th>LCP_costs</th>\n",
       "      <th>PCP_costs</th>\n",
       "    </tr>\n",
       "  </thead>\n",
       "  <tbody>\n",
       "    <tr>\n",
       "      <th>count</th>\n",
       "      <td>1.000000e+04</td>\n",
       "      <td>1.000000e+04</td>\n",
       "      <td>1.000000e+04</td>\n",
       "    </tr>\n",
       "    <tr>\n",
       "      <th>mean</th>\n",
       "      <td>2.082127e+07</td>\n",
       "      <td>2.196265e+07</td>\n",
       "      <td>2.023979e+07</td>\n",
       "    </tr>\n",
       "    <tr>\n",
       "      <th>std</th>\n",
       "      <td>1.072262e+07</td>\n",
       "      <td>4.184826e+06</td>\n",
       "      <td>5.295624e+06</td>\n",
       "    </tr>\n",
       "    <tr>\n",
       "      <th>min</th>\n",
       "      <td>0.000000e+00</td>\n",
       "      <td>1.271160e+07</td>\n",
       "      <td>5.649600e+06</td>\n",
       "    </tr>\n",
       "    <tr>\n",
       "      <th>25%</th>\n",
       "      <td>1.337666e+07</td>\n",
       "      <td>1.913185e+07</td>\n",
       "      <td>1.760754e+07</td>\n",
       "    </tr>\n",
       "    <tr>\n",
       "      <th>50%</th>\n",
       "      <td>1.962941e+07</td>\n",
       "      <td>2.175552e+07</td>\n",
       "      <td>2.118600e+07</td>\n",
       "    </tr>\n",
       "    <tr>\n",
       "      <th>75%</th>\n",
       "      <td>2.759718e+07</td>\n",
       "      <td>2.479405e+07</td>\n",
       "      <td>2.503551e+07</td>\n",
       "    </tr>\n",
       "    <tr>\n",
       "      <th>max</th>\n",
       "      <td>7.391984e+07</td>\n",
       "      <td>2.966040e+07</td>\n",
       "      <td>2.824800e+07</td>\n",
       "    </tr>\n",
       "  </tbody>\n",
       "</table>\n",
       "</div>"
      ],
      "text/plain": [
       "             Losses     LCP_costs     PCP_costs\n",
       "count  1.000000e+04  1.000000e+04  1.000000e+04\n",
       "mean   2.082127e+07  2.196265e+07  2.023979e+07\n",
       "std    1.072262e+07  4.184826e+06  5.295624e+06\n",
       "min    0.000000e+00  1.271160e+07  5.649600e+06\n",
       "25%    1.337666e+07  1.913185e+07  1.760754e+07\n",
       "50%    1.962941e+07  2.175552e+07  2.118600e+07\n",
       "75%    2.759718e+07  2.479405e+07  2.503551e+07\n",
       "max    7.391984e+07  2.966040e+07  2.824800e+07"
      ]
     },
     "execution_count": 72,
     "metadata": {},
     "output_type": "execute_result"
    }
   ],
   "source": [
    "display[1]"
   ]
  },
  {
   "cell_type": "markdown",
   "metadata": {},
   "source": [
    "**Conclusion:**\n",
    "\n",
    "Based on the analysis above and the visuals, we see that the LCP option had a higher expected value than that of the PCP - $21.96MM vs. $20.24MM. \n",
    "\n",
    "Moreso, the LCP cost to the company was higher in over 8k of the 10k simulations of possible outcomes, while the PCP was higher than the LCP in slightly less than 2k of the 10k simulations. \n",
    "\n",
    "It would be prudent for the business to go with the PCP insurance option for its fleet."
   ]
  }
 ],
 "metadata": {
  "interpreter": {
   "hash": "e38c239545dba23bd8782f8f1d8e541cce36266ca5e3e000a1498845294f61dd"
  },
  "kernelspec": {
   "display_name": "Python 3.8.8 ('base')",
   "language": "python",
   "name": "python3"
  },
  "language_info": {
   "codemirror_mode": {
    "name": "ipython",
    "version": 3
   },
   "file_extension": ".py",
   "mimetype": "text/x-python",
   "name": "python",
   "nbconvert_exporter": "python",
   "pygments_lexer": "ipython3",
   "version": "3.8.8"
  },
  "orig_nbformat": 4
 },
 "nbformat": 4,
 "nbformat_minor": 2
}
